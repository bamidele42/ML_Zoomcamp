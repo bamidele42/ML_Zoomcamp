{
 "cells": [
  {
   "cell_type": "markdown",
   "id": "d61d8112-1709-4ff2-99e0-379c9903843e",
   "metadata": {},
   "source": [
    "Q1. Pandas version\n",
    "\n",
    "2.2.2"
   ]
  },
  {
   "cell_type": "code",
   "execution_count": 39,
   "id": "4da91f67-c4d4-4d66-8df6-cab28885587a",
   "metadata": {},
   "outputs": [],
   "source": [
    "import pandas as pd\n",
    "import numpy as np"
   ]
  },
  {
   "cell_type": "code",
   "execution_count": 2,
   "id": "4705e2c6-3ea5-45bf-ad89-08ad45c05276",
   "metadata": {},
   "outputs": [
    {
     "data": {
      "text/plain": [
       "'2.2.2'"
      ]
     },
     "execution_count": 2,
     "metadata": {},
     "output_type": "execute_result"
    }
   ],
   "source": [
    "pd.__version__"
   ]
  },
  {
   "cell_type": "code",
   "execution_count": 4,
   "id": "c27f5656-bcc6-44c1-a024-73dcf2ef8c73",
   "metadata": {},
   "outputs": [],
   "source": [
    "# Getting the data\n",
    "df = pd.read_csv(\"https://raw.githubusercontent.com/alexeygrigorev/datasets/master/laptops.csv\")"
   ]
  },
  {
   "cell_type": "markdown",
   "id": "37719d9d-0573-4b0f-b441-305ea8caaa19",
   "metadata": {},
   "source": [
    "### Q2. Record count\n",
    "\n",
    "How many records are in the dataset? 2160"
   ]
  },
  {
   "cell_type": "code",
   "execution_count": 5,
   "id": "d80b2725-d60a-4b98-99aa-d199f5fc2691",
   "metadata": {},
   "outputs": [
    {
     "data": {
      "text/plain": [
       "(2160, 12)"
      ]
     },
     "execution_count": 5,
     "metadata": {},
     "output_type": "execute_result"
    }
   ],
   "source": [
    "df.shape"
   ]
  },
  {
   "cell_type": "markdown",
   "id": "5bc7c832-a55c-44cb-bfc4-20ad4c679bd1",
   "metadata": {},
   "source": [
    "#### Q3. Laptop brands\n",
    "How many laptop brands are presented in the dataset? 2160"
   ]
  },
  {
   "cell_type": "code",
   "execution_count": 7,
   "id": "a88e3986-e6cd-4852-ad31-748934d1e323",
   "metadata": {},
   "outputs": [
    {
     "data": {
      "text/plain": [
       "2160"
      ]
     },
     "execution_count": 7,
     "metadata": {},
     "output_type": "execute_result"
    }
   ],
   "source": [
    "df.Laptop.nunique()"
   ]
  },
  {
   "cell_type": "markdown",
   "id": "fd1064c3-f792-47cb-86aa-ffa256aee0f4",
   "metadata": {},
   "source": [
    "### Q4. Missing values\n",
    "How many columns in the dataset have missing values? 2"
   ]
  },
  {
   "cell_type": "code",
   "execution_count": 8,
   "id": "403602f8-b828-4e10-8877-5fedee6c673e",
   "metadata": {},
   "outputs": [
    {
     "data": {
      "text/plain": [
       "Laptop             0\n",
       "Status             0\n",
       "Brand              0\n",
       "Model              0\n",
       "CPU                0\n",
       "RAM                0\n",
       "Storage            0\n",
       "Storage type      42\n",
       "GPU             1371\n",
       "Screen             4\n",
       "Touch              0\n",
       "Final Price        0\n",
       "dtype: int64"
      ]
     },
     "execution_count": 8,
     "metadata": {},
     "output_type": "execute_result"
    }
   ],
   "source": [
    "df.isnull().sum()"
   ]
  },
  {
   "cell_type": "markdown",
   "id": "e0154ba0-bc6f-48ec-af7a-af0e4fe0ce6c",
   "metadata": {},
   "source": [
    "### Q5. Maximum final price\n",
    "What's the maximum final price of Dell notebooks in the dataset? 3936.0"
   ]
  },
  {
   "cell_type": "code",
   "execution_count": 17,
   "id": "4fe498ca-ce48-4678-90b7-f394b11f3199",
   "metadata": {},
   "outputs": [],
   "source": [
    "dell = df[df.Brand == \"Dell\"]"
   ]
  },
  {
   "cell_type": "code",
   "execution_count": 19,
   "id": "f64acf55-d557-4236-9bcb-f15c0fec40fe",
   "metadata": {},
   "outputs": [
    {
     "data": {
      "text/plain": [
       "array(['Vostro', 'Latitude', 'XPS', 'Precision'], dtype=object)"
      ]
     },
     "execution_count": 19,
     "metadata": {},
     "output_type": "execute_result"
    }
   ],
   "source": [
    "dell.Model.unique()"
   ]
  },
  {
   "cell_type": "code",
   "execution_count": 22,
   "id": "3701e85e-8c74-49cc-b135-ee4ae22fb09f",
   "metadata": {},
   "outputs": [
    {
     "data": {
      "text/plain": [
       "3936.0"
      ]
     },
     "execution_count": 22,
     "metadata": {},
     "output_type": "execute_result"
    }
   ],
   "source": [
    "dell[\"Final Price\"].max()"
   ]
  },
  {
   "cell_type": "markdown",
   "id": "4fb5254c-3b8a-4b9a-8ed3-23a702b4ebec",
   "metadata": {},
   "source": [
    "### Q6. Median value of Screen\n",
    "Find the median value of Screen column in the dataset.\n",
    "- Next, calculate the most frequent value of the same Screen column.\n",
    "- Use fillna method to fill the missing values in Screen column with the most frequent value from the previous step.\n",
    "- Now, calculate the median value of Screen once again.\n",
    "Has it changed?"
   ]
  },
  {
   "cell_type": "code",
   "execution_count": 23,
   "id": "e8d4c66d-6be5-4238-97f6-e02fc00f39af",
   "metadata": {},
   "outputs": [
    {
     "data": {
      "text/html": [
       "<div>\n",
       "<style scoped>\n",
       "    .dataframe tbody tr th:only-of-type {\n",
       "        vertical-align: middle;\n",
       "    }\n",
       "\n",
       "    .dataframe tbody tr th {\n",
       "        vertical-align: top;\n",
       "    }\n",
       "\n",
       "    .dataframe thead th {\n",
       "        text-align: right;\n",
       "    }\n",
       "</style>\n",
       "<table border=\"1\" class=\"dataframe\">\n",
       "  <thead>\n",
       "    <tr style=\"text-align: right;\">\n",
       "      <th></th>\n",
       "      <th>Laptop</th>\n",
       "      <th>Status</th>\n",
       "      <th>Brand</th>\n",
       "      <th>Model</th>\n",
       "      <th>CPU</th>\n",
       "      <th>RAM</th>\n",
       "      <th>Storage</th>\n",
       "      <th>Storage type</th>\n",
       "      <th>GPU</th>\n",
       "      <th>Screen</th>\n",
       "      <th>Touch</th>\n",
       "      <th>Final Price</th>\n",
       "    </tr>\n",
       "  </thead>\n",
       "  <tbody>\n",
       "    <tr>\n",
       "      <th>0</th>\n",
       "      <td>ASUS ExpertBook B1 B1502CBA-EJ0436X Intel Core...</td>\n",
       "      <td>New</td>\n",
       "      <td>Asus</td>\n",
       "      <td>ExpertBook</td>\n",
       "      <td>Intel Core i5</td>\n",
       "      <td>8</td>\n",
       "      <td>512</td>\n",
       "      <td>SSD</td>\n",
       "      <td>NaN</td>\n",
       "      <td>15.6</td>\n",
       "      <td>No</td>\n",
       "      <td>1009.00</td>\n",
       "    </tr>\n",
       "    <tr>\n",
       "      <th>1</th>\n",
       "      <td>Alurin Go Start Intel Celeron N4020/8GB/256GB ...</td>\n",
       "      <td>New</td>\n",
       "      <td>Alurin</td>\n",
       "      <td>Go</td>\n",
       "      <td>Intel Celeron</td>\n",
       "      <td>8</td>\n",
       "      <td>256</td>\n",
       "      <td>SSD</td>\n",
       "      <td>NaN</td>\n",
       "      <td>15.6</td>\n",
       "      <td>No</td>\n",
       "      <td>299.00</td>\n",
       "    </tr>\n",
       "    <tr>\n",
       "      <th>2</th>\n",
       "      <td>ASUS ExpertBook B1 B1502CBA-EJ0424X Intel Core...</td>\n",
       "      <td>New</td>\n",
       "      <td>Asus</td>\n",
       "      <td>ExpertBook</td>\n",
       "      <td>Intel Core i3</td>\n",
       "      <td>8</td>\n",
       "      <td>256</td>\n",
       "      <td>SSD</td>\n",
       "      <td>NaN</td>\n",
       "      <td>15.6</td>\n",
       "      <td>No</td>\n",
       "      <td>789.00</td>\n",
       "    </tr>\n",
       "    <tr>\n",
       "      <th>3</th>\n",
       "      <td>MSI Katana GF66 12UC-082XES Intel Core i7-1270...</td>\n",
       "      <td>New</td>\n",
       "      <td>MSI</td>\n",
       "      <td>Katana</td>\n",
       "      <td>Intel Core i7</td>\n",
       "      <td>16</td>\n",
       "      <td>1000</td>\n",
       "      <td>SSD</td>\n",
       "      <td>RTX 3050</td>\n",
       "      <td>15.6</td>\n",
       "      <td>No</td>\n",
       "      <td>1199.00</td>\n",
       "    </tr>\n",
       "    <tr>\n",
       "      <th>4</th>\n",
       "      <td>HP 15S-FQ5085NS Intel Core i5-1235U/16GB/512GB...</td>\n",
       "      <td>New</td>\n",
       "      <td>HP</td>\n",
       "      <td>15S</td>\n",
       "      <td>Intel Core i5</td>\n",
       "      <td>16</td>\n",
       "      <td>512</td>\n",
       "      <td>SSD</td>\n",
       "      <td>NaN</td>\n",
       "      <td>15.6</td>\n",
       "      <td>No</td>\n",
       "      <td>669.01</td>\n",
       "    </tr>\n",
       "  </tbody>\n",
       "</table>\n",
       "</div>"
      ],
      "text/plain": [
       "                                              Laptop Status   Brand  \\\n",
       "0  ASUS ExpertBook B1 B1502CBA-EJ0436X Intel Core...    New    Asus   \n",
       "1  Alurin Go Start Intel Celeron N4020/8GB/256GB ...    New  Alurin   \n",
       "2  ASUS ExpertBook B1 B1502CBA-EJ0424X Intel Core...    New    Asus   \n",
       "3  MSI Katana GF66 12UC-082XES Intel Core i7-1270...    New     MSI   \n",
       "4  HP 15S-FQ5085NS Intel Core i5-1235U/16GB/512GB...    New      HP   \n",
       "\n",
       "        Model            CPU  RAM  Storage Storage type       GPU  Screen  \\\n",
       "0  ExpertBook  Intel Core i5    8      512          SSD       NaN    15.6   \n",
       "1          Go  Intel Celeron    8      256          SSD       NaN    15.6   \n",
       "2  ExpertBook  Intel Core i3    8      256          SSD       NaN    15.6   \n",
       "3      Katana  Intel Core i7   16     1000          SSD  RTX 3050    15.6   \n",
       "4         15S  Intel Core i5   16      512          SSD       NaN    15.6   \n",
       "\n",
       "  Touch  Final Price  \n",
       "0    No      1009.00  \n",
       "1    No       299.00  \n",
       "2    No       789.00  \n",
       "3    No      1199.00  \n",
       "4    No       669.01  "
      ]
     },
     "execution_count": 23,
     "metadata": {},
     "output_type": "execute_result"
    }
   ],
   "source": [
    "df.head()"
   ]
  },
  {
   "cell_type": "code",
   "execution_count": 25,
   "id": "5ff8a83f-25e2-440d-ad0a-a03071dbd8b1",
   "metadata": {},
   "outputs": [
    {
     "data": {
      "text/plain": [
       "15.6"
      ]
     },
     "execution_count": 25,
     "metadata": {},
     "output_type": "execute_result"
    }
   ],
   "source": [
    "# Initial screen median\n",
    "df.Screen.median()"
   ]
  },
  {
   "cell_type": "code",
   "execution_count": 26,
   "id": "9457de35-d34d-49e2-9ee3-13343ba32a94",
   "metadata": {},
   "outputs": [
    {
     "data": {
      "text/plain": [
       "0    15.6\n",
       "Name: Screen, dtype: float64"
      ]
     },
     "execution_count": 26,
     "metadata": {},
     "output_type": "execute_result"
    }
   ],
   "source": [
    "# Initial screen mode\n",
    "df.Screen.mode()"
   ]
  },
  {
   "cell_type": "code",
   "execution_count": 28,
   "id": "aa13a6d3-8b5f-48eb-aa7b-4990a2caf577",
   "metadata": {},
   "outputs": [],
   "source": [
    "# filling the Screen null values with the most frequent value\n",
    "df.Screen = df.Screen.fillna(df.Screen.mode()[0])"
   ]
  },
  {
   "cell_type": "code",
   "execution_count": 30,
   "id": "b67409c5-74a7-4aec-bf71-122fc7f88e60",
   "metadata": {},
   "outputs": [
    {
     "data": {
      "text/plain": [
       "15.6"
      ]
     },
     "execution_count": 30,
     "metadata": {},
     "output_type": "execute_result"
    }
   ],
   "source": [
    "# The median remain thesame even after filling the null values with the most frequent.\n",
    "df.Screen.median()"
   ]
  },
  {
   "cell_type": "markdown",
   "id": "52c14c18-7012-4838-beac-6308959a7c95",
   "metadata": {},
   "source": [
    "### Q7. Sum of weights\n",
    "- Select all the \"Innjoo\" laptops from the dataset.\n",
    "- Select only columns RAM, Storage, Screen.\n",
    "- Get the underlying NumPy array. Let's call it X.\n",
    "- Compute matrix-matrix multiplication between the transpose of X and X. To get the transpose, use X.T. Let's call the result XTX.\n",
    "- Compute the inverse of XTX.\n",
    "- Create an array y with values [1100, 1300, 800, 900, 1000, 1100].\n",
    "- Multiply the inverse of XTX with the transpose of X, and then multiply the result by y. Call the result w.\n",
    "- What's the sum of all the elements of the result?"
   ]
  },
  {
   "cell_type": "code",
   "execution_count": 52,
   "id": "8d766183-dd6d-461f-a97d-9562f5f7149f",
   "metadata": {},
   "outputs": [],
   "source": [
    "# Select all the \"Innjoo\" laptops from the dataset.\n",
    "innjoo = df[df.Brand == \"Innjoo\"]"
   ]
  },
  {
   "cell_type": "code",
   "execution_count": 34,
   "id": "30d30717-5a58-4b87-97ce-406a0370d063",
   "metadata": {},
   "outputs": [],
   "source": [
    "# Select only columns RAM, Storage, Screen.\n",
    "use_col =innjoo[[\"RAM\", \"Storage\", \"Screen\"]]"
   ]
  },
  {
   "cell_type": "code",
   "execution_count": 36,
   "id": "9210d67c-f89d-487a-968b-0a72f5eb9d86",
   "metadata": {},
   "outputs": [],
   "source": [
    "# Get the underlying NumPy array\n",
    "X = use_col.values"
   ]
  },
  {
   "cell_type": "code",
   "execution_count": 41,
   "id": "cd976ef2-5615-4e67-9797-d442c736cf73",
   "metadata": {},
   "outputs": [],
   "source": [
    "# transpose of X\n",
    "XT = X.T"
   ]
  },
  {
   "cell_type": "code",
   "execution_count": 42,
   "id": "4e6bac84-15bc-4d6b-96df-b47535222193",
   "metadata": {},
   "outputs": [],
   "source": [
    "# Compute matrix-matrix multiplication between the transpose of X and X\n",
    "XTX = XT.dot(X)"
   ]
  },
  {
   "cell_type": "code",
   "execution_count": 45,
   "id": "9bb02d23-48ee-4abe-afbc-6821cd11051a",
   "metadata": {},
   "outputs": [],
   "source": [
    "# Compute the inverse of XTX\n",
    "inverse = np.linalg.inv(XTX)"
   ]
  },
  {
   "cell_type": "code",
   "execution_count": 46,
   "id": "05aaed36-1f11-4046-949b-c22e35a3d99e",
   "metadata": {},
   "outputs": [],
   "source": [
    "# Create an array y with values [1100, 1300, 800, 900, 1000, 1100]\n",
    "y = np.array([1100, 1300, 800, 900, 1000, 1100])"
   ]
  },
  {
   "cell_type": "code",
   "execution_count": 51,
   "id": "5e8c0631-7146-466c-9acc-e6584f012fa7",
   "metadata": {},
   "outputs": [
    {
     "data": {
      "text/plain": [
       "91.29988062995496"
      ]
     },
     "execution_count": 51,
     "metadata": {},
     "output_type": "execute_result"
    }
   ],
   "source": [
    "# Multiply the inverse of XTX with the transpose of X, and then multiply the result by y \n",
    "inverse.dot(XT).dot(y).sum()"
   ]
  },
  {
   "cell_type": "code",
   "execution_count": null,
   "id": "8697df36-075b-47a1-b522-7fbab6e8905f",
   "metadata": {},
   "outputs": [],
   "source": []
  }
 ],
 "metadata": {
  "kernelspec": {
   "display_name": "Python 3 (ipykernel)",
   "language": "python",
   "name": "python3"
  },
  "language_info": {
   "codemirror_mode": {
    "name": "ipython",
    "version": 3
   },
   "file_extension": ".py",
   "mimetype": "text/x-python",
   "name": "python",
   "nbconvert_exporter": "python",
   "pygments_lexer": "ipython3",
   "version": "3.11.9"
  }
 },
 "nbformat": 4,
 "nbformat_minor": 5
}
